{
  "nbformat": 4,
  "nbformat_minor": 0,
  "metadata": {
    "colab": {
      "provenance": [],
      "authorship_tag": "ABX9TyN5Inqa+X+8tvvvwL5aaIcF",
      "include_colab_link": true
    },
    "kernelspec": {
      "name": "python3",
      "display_name": "Python 3"
    },
    "language_info": {
      "name": "python"
    }
  },
  "cells": [
    {
      "cell_type": "markdown",
      "metadata": {
        "id": "view-in-github",
        "colab_type": "text"
      },
      "source": [
        "<a href=\"https://colab.research.google.com/github/matt-gn/amrdc-repo-tutorials/blob/main/tutorial.ipynb\" target=\"_parent\"><img src=\"https://colab.research.google.com/assets/colab-badge.svg\" alt=\"Open In Colab\"/></a>"
      ]
    },
    {
      "cell_type": "markdown",
      "source": [
        "# AMRDC Repository Tutorial\n",
        "\n",
        "This is a tutorial "
      ],
      "metadata": {
        "id": "WAw9fhRK76w6"
      }
    },
    {
      "cell_type": "code",
      "source": [
        "print(\"Nice tutorial!\")"
      ],
      "metadata": {
        "colab": {
          "base_uri": "https://localhost:8080/"
        },
        "id": "GPhO8f7G8K44",
        "outputId": "47cb604b-8104-4b57-d0a8-8e372a826e20"
      },
      "execution_count": null,
      "outputs": [
        {
          "output_type": "stream",
          "name": "stdout",
          "text": [
            "Nice tutorial!\n"
          ]
        }
      ]
    },
    {
      "cell_type": "markdown",
      "source": [
        "Here are some other useful string methods:"
      ],
      "metadata": {
        "id": "Zndc8dpw8U_A"
      }
    },
    {
      "cell_type": "code",
      "source": [
        "## f-strings\n",
        "this = \"tutorial\"\n",
        "print(f\"Nice {this}!\")"
      ],
      "metadata": {
        "colab": {
          "base_uri": "https://localhost:8080/"
        },
        "id": "6dNRSUn48ZzX",
        "outputId": "9809b13a-16e9-409e-fb3d-8a9dacd4cde7"
      },
      "execution_count": null,
      "outputs": [
        {
          "output_type": "stream",
          "name": "stdout",
          "text": [
            "Nice tutorial!\n"
          ]
        }
      ]
    },
    {
      "cell_type": "code",
      "source": [
        "## Replace\n",
        "print(\"Nice tutorial!\".replace(\"!\", \"?\"))"
      ],
      "metadata": {
        "colab": {
          "base_uri": "https://localhost:8080/"
        },
        "id": "ZMwPEfHS8kQw",
        "outputId": "784e7937-112b-45f8-ba11-878a71fb98fb"
      },
      "execution_count": null,
      "outputs": [
        {
          "output_type": "stream",
          "name": "stdout",
          "text": [
            "Nice tutorial?\n"
          ]
        }
      ]
    },
    {
      "cell_type": "code",
      "source": [
        "## Split\n",
        "array = \"Nice tutorial! Great job!\".split()     ## If no arg is present, whitespace is used as the delimiter\n",
        "array2 = \"Nice,tutorial,great,job!\".split(\",\")  ## Here is a comma delimited string\n",
        "print(array)\n",
        "print(array2)"
      ],
      "metadata": {
        "colab": {
          "base_uri": "https://localhost:8080/"
        },
        "id": "_jh9B37E8yAJ",
        "outputId": "dae8fb55-1d1f-4d4e-d0a2-a11a0c9e17b4"
      },
      "execution_count": null,
      "outputs": [
        {
          "output_type": "stream",
          "name": "stdout",
          "text": [
            "['Nice', 'tutorial!', 'Great', 'job!']\n",
            "['Nice', 'tutorial', 'great', 'job!']\n"
          ]
        }
      ]
    },
    {
      "cell_type": "markdown",
      "source": [
        "Strings are `iterables`, which means we can compose, decompose, and map functions to them just like we would an array or list."
      ],
      "metadata": {
        "id": "s7nNFomc9-K7"
      }
    },
    {
      "cell_type": "code",
      "source": [
        "sentence = \"Hello sailor!\"\n",
        "array = [letter for letter in sentence]\n",
        "myString = \"\".join([\"F\", \"o\", \"o\", \"b\", \"a\", \"r\"])\n",
        "gibberish = \"\".join(chr(ord(letter) + 3) for letter in sentence)\n",
        "print(array)\n",
        "print(myString)\n",
        "print(gibberish)"
      ],
      "metadata": {
        "colab": {
          "base_uri": "https://localhost:8080/"
        },
        "id": "QqiHzRkC-HdV",
        "outputId": "89a6c674-1a84-4358-96c2-12167efca481"
      },
      "execution_count": null,
      "outputs": [
        {
          "output_type": "stream",
          "name": "stdout",
          "text": [
            "['H', 'e', 'l', 'l', 'o', ' ', 's', 'a', 'i', 'l', 'o', 'r', '!']\n",
            "Foobar\n",
            "Khoor#vdloru$\n"
          ]
        }
      ]
    },
    {
      "cell_type": "markdown",
      "source": [
        "Here's a primitive encryption algorithm:"
      ],
      "metadata": {
        "id": "SoFaEyTP_Uev"
      }
    },
    {
      "cell_type": "code",
      "source": [
        "import math\n",
        "\n",
        "## Square the ordinal of each letter in the string and put in in an array\n",
        "encrypt = lambda x: ord(x) * ord(x)\n",
        "## Get the square root of every number in the array and cast it to a character\n",
        "decrypt = lambda x: chr(int(math.sqrt(x)))\n",
        "sentence = \"Hello sailor!\"\n",
        "\n",
        "## String will be encrypted as a list of integers\n",
        "encrypted_string = [encrypt(letter) for letter in sentence]\n",
        "print(f\"Encrypted string:\\n{encrypted_string}\\n\")\n",
        "\n",
        "decrypted_arr = [decrypt(num) for num in encrypted_string]\n",
        "## Use String method `join(List)` to get a string back\n",
        "decrypted_string = \"\".join(decrypted_arr)\n",
        "print(f\"Decrypted string:\\n{decrypted_string}\\n\")"
      ],
      "metadata": {
        "colab": {
          "base_uri": "https://localhost:8080/"
        },
        "id": "Zz9PZr6O-tZj",
        "outputId": "6b85152b-eae7-461c-89dd-7fb0ad33c39c"
      },
      "execution_count": null,
      "outputs": [
        {
          "output_type": "stream",
          "name": "stdout",
          "text": [
            "Encrypted string:\n",
            "[5184, 10201, 11664, 11664, 12321, 1024, 13225, 9409, 11025, 11664, 12321, 12996, 1089]\n",
            "\n",
            "Decrypted string:\n",
            "Hello sailor!\n",
            "\n"
          ]
        }
      ]
    },
    {
      "cell_type": "code",
      "source": [],
      "metadata": {
        "id": "6Ah2oBPRDjg8"
      },
      "execution_count": null,
      "outputs": []
    }
  ]
}