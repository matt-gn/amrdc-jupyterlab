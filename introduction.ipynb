{
  "nbformat": 4,
  "nbformat_minor": 0,
  "metadata": {
    "colab": {
      "provenance": [],
      "authorship_tag": "ABX9TyPyreWgWvQlT7hentyLC+fj",
      "include_colab_link": true
    },
    "kernelspec": {
      "name": "python3",
      "display_name": "Python 3"
    },
    "language_info": {
      "name": "python"
    }
  },
  "cells": [
    {
      "cell_type": "markdown",
      "metadata": {
        "id": "view-in-github",
        "colab_type": "text"
      },
      "source": [
        "<a href=\"https://colab.research.google.com/github/matt-gn/amrdc-jupyterlab/blob/main/introduction.ipynb\" target=\"_parent\"><img src=\"https://colab.research.google.com/assets/colab-badge.svg\" alt=\"Open In Colab\"/></a>"
      ]
    },
    {
      "cell_type": "markdown",
      "source": [
        "# AMRDC Repository API Introduction"
      ],
      "metadata": {
        "id": "x5brn_HSAWDv"
      }
    },
    {
      "cell_type": "markdown",
      "source": [
        "In this tutorial we will learn how to access, interact, and aggregate AMRDC data and metadata via the public API (application programming interface). Along the way, we will learn a bit about the architecture of APIs, HTTP requests, and wrangling data streams in Python.\n",
        "\n",
        "This tutorial assumes you have Python 3.xx installed, along with either the `pip` tool or an active `conda` environment.\n",
        "\n",
        "Alternately, you can execute the code directly in this notebook by opening it in Google Colab or downloading the `.ipynb` file and opening it in your favorite interactive notebook environment.\n",
        "\n",
        "For a more technical treatment of this topic, refer to the [Official CKAN API Guide](https://docs.ckan.org/en/2.10/api/index.html)."
      ],
      "metadata": {
        "id": "ULjiGF2kAcIa"
      }
    },
    {
      "cell_type": "markdown",
      "source": [
        "## Accessing the repository using the `requests` library"
      ],
      "metadata": {
        "id": "zK5Kp5gV8QhH"
      }
    },
    {
      "cell_type": "markdown",
      "source": [
        "We'll start by importing the `requests` library, which we can use to make simple HTTP GET and POST requests."
      ],
      "metadata": {
        "id": "Zerx8SeZ-BC6"
      }
    },
    {
      "cell_type": "code",
      "execution_count": null,
      "metadata": {
        "id": "vObnxjDtF7PF"
      },
      "outputs": [],
      "source": [
        "import requests"
      ]
    },
    {
      "cell_type": "markdown",
      "source": [
        "We're ready to make our first API call."
      ],
      "metadata": {
        "id": "9jMXX9jB-LZf"
      }
    },
    {
      "cell_type": "code",
      "source": [
        "## Request a list of datasets from the repository\n",
        "## requests.get() returns a `Response` object, which can be cast to a dict using .json()\n",
        "response = requests.get('https://amrdcdata.ssec.wisc.edu/api/action/package_list').json()\n",
        "\n",
        "## We then access the results using the 'result' key.\n",
        "amrdc_datasets = response['result']\n",
        "\n",
        "## Let's count how many datasets are in the repo.\n",
        "len(amrdc_datasets)"
      ],
      "metadata": {
        "id": "PFlP9i6rF8pm",
        "colab": {
          "base_uri": "https://localhost:8080/"
        },
        "outputId": "4a17c0df-24fe-4ec8-804d-662a9c27397c"
      },
      "execution_count": null,
      "outputs": [
        {
          "output_type": "execute_result",
          "data": {
            "text/plain": [
              "4507"
            ]
          },
          "metadata": {},
          "execution_count": 4
        }
      ]
    },
    {
      "cell_type": "code",
      "source": [
        "## Okay, that worked. Now let's use this list to look for Byrd AWS datasets.\n",
        "byrd_aws_datasets = [dataset for dataset in amrdc_datasets if \"byrd\" in dataset]\n",
        "len(byrd_aws_datasets)"
      ],
      "metadata": {
        "colab": {
          "base_uri": "https://localhost:8080/"
        },
        "id": "V7IKaLCqGocn",
        "outputId": "771508de-8c46-4279-be10-8955e5e5ec27"
      },
      "execution_count": null,
      "outputs": [
        {
          "output_type": "execute_result",
          "data": {
            "text/plain": [
              "91"
            ]
          },
          "metadata": {},
          "execution_count": 27
        }
      ]
    },
    {
      "cell_type": "code",
      "source": [
        "## Great. Now say we want only Byrd AWS datasets from 1999....\n",
        "byrd_aws_1999_datasets = [dataset for dataset in amrdc_datasets['result'] if all(word in dataset for word in [\"byrd\", \"1999\"])]\n",
        "byrd_aws_1999_datasets"
      ],
      "metadata": {
        "colab": {
          "base_uri": "https://localhost:8080/"
        },
        "id": "N3bDb0vrHByG",
        "outputId": "79d0da78-a89e-4415-d61f-20eae3f241ff"
      },
      "execution_count": null,
      "outputs": [
        {
          "output_type": "execute_result",
          "data": {
            "text/plain": [
              "['byrd-automatic-weather-station-1999-reader-format-three-hour-observational-data',\n",
              " 'byrd-automatic-weather-station-1999-unmodified-ten-minute-observational-data']"
            ]
          },
          "metadata": {},
          "execution_count": 29
        }
      ]
    },
    {
      "cell_type": "markdown",
      "source": [
        "You can use these results as static URLs by appending them to `https://amrdcdata.ssec.wisc.edu/dataset/`. Visit [this link](https://amrdcdata.ssec.wisc.edu/dataset/byrd-automatic-weather-station-1999-unmodified-ten-minute-observational-data) in your browser to access the data.\n",
        "\n",
        "This method works, but it's inefficient and unintuitive. Surely there has to be a better way...."
      ],
      "metadata": {
        "id": "6ExgftPj95mG"
      }
    },
    {
      "cell_type": "markdown",
      "source": [
        "## Accessing the repository using the `ckanapi` library"
      ],
      "metadata": {
        "id": "vauLYf9W8jbQ"
      }
    },
    {
      "cell_type": "markdown",
      "source": [
        "The `ckanapi` library is a simple, powerful wrapper for programmatically communicating with the CKAN API.\n",
        "\n",
        "Install it with `pip install ckanapi` or `conda install -c conda-forge ckanapi`."
      ],
      "metadata": {
        "id": "6cpw2g50_vWh"
      }
    },
    {
      "cell_type": "code",
      "source": [
        "%pip install ckanapi\n",
        "import ckanapi"
      ],
      "metadata": {
        "colab": {
          "base_uri": "https://localhost:8080/"
        },
        "id": "xyXF3k1yJitm",
        "outputId": "fc820895-5ff0-4170-f711-588764421e91"
      },
      "execution_count": null,
      "outputs": [
        {
          "output_type": "stream",
          "name": "stdout",
          "text": [
            "Looking in indexes: https://pypi.org/simple, https://us-python.pkg.dev/colab-wheels/public/simple/\n",
            "Collecting ckanapi\n",
            "  Downloading ckanapi-4.7.tar.gz (33 kB)\n",
            "  Preparing metadata (setup.py) ... \u001b[?25l\u001b[?25hdone\n",
            "Requirement already satisfied: setuptools in /usr/local/lib/python3.8/dist-packages (from ckanapi) (57.4.0)\n",
            "Collecting docopt\n",
            "  Downloading docopt-0.6.2.tar.gz (25 kB)\n",
            "  Preparing metadata (setup.py) ... \u001b[?25l\u001b[?25hdone\n",
            "Requirement already satisfied: requests in /usr/local/lib/python3.8/dist-packages (from ckanapi) (2.25.1)\n",
            "Requirement already satisfied: python-slugify>=1.0 in /usr/local/lib/python3.8/dist-packages (from ckanapi) (8.0.1)\n",
            "Requirement already satisfied: six<2.0,>=1.9 in /usr/local/lib/python3.8/dist-packages (from ckanapi) (1.15.0)\n",
            "Requirement already satisfied: text-unidecode>=1.3 in /usr/local/lib/python3.8/dist-packages (from python-slugify>=1.0->ckanapi) (1.3)\n",
            "Requirement already satisfied: certifi>=2017.4.17 in /usr/local/lib/python3.8/dist-packages (from requests->ckanapi) (2022.12.7)\n",
            "Requirement already satisfied: idna<3,>=2.5 in /usr/local/lib/python3.8/dist-packages (from requests->ckanapi) (2.10)\n",
            "Requirement already satisfied: urllib3<1.27,>=1.21.1 in /usr/local/lib/python3.8/dist-packages (from requests->ckanapi) (1.26.14)\n",
            "Requirement already satisfied: chardet<5,>=3.0.2 in /usr/local/lib/python3.8/dist-packages (from requests->ckanapi) (4.0.0)\n",
            "Building wheels for collected packages: ckanapi, docopt\n",
            "  Building wheel for ckanapi (setup.py) ... \u001b[?25l\u001b[?25hdone\n",
            "  Created wheel for ckanapi: filename=ckanapi-4.7-py3-none-any.whl size=43312 sha256=fb9372e76637198fec9b771c8b7f8c66a1add4046849ceef00cd4d352add4594\n",
            "  Stored in directory: /root/.cache/pip/wheels/0d/b2/c7/219cd5a752c2ff4fb9809216307d26f6421f6711e0f4e010ff\n",
            "  Building wheel for docopt (setup.py) ... \u001b[?25l\u001b[?25hdone\n",
            "  Created wheel for docopt: filename=docopt-0.6.2-py2.py3-none-any.whl size=13723 sha256=85e4cfbd5c340713928ce2089ab86a645def2b7439dc0c07328e94ed142329a4\n",
            "  Stored in directory: /root/.cache/pip/wheels/56/ea/58/ead137b087d9e326852a851351d1debf4ada529b6ac0ec4e8c\n",
            "Successfully built ckanapi docopt\n",
            "Installing collected packages: docopt, ckanapi\n",
            "Successfully installed ckanapi-4.7 docopt-0.6.2\n"
          ]
        }
      ]
    },
    {
      "cell_type": "markdown",
      "source": [
        "Let's import the library and execute another search for the Byrd 1999 data."
      ],
      "metadata": {
        "id": "Rfzu9UP7lBWW"
      }
    },
    {
      "cell_type": "code",
      "source": [
        "from ckanapi import RemoteCKAN\n",
        "amrdc_repository = RemoteCKAN('https://amrdcdata.ssec.wisc.edu/')"
      ],
      "metadata": {
        "id": "N5lP5v9YiiZJ"
      },
      "execution_count": null,
      "outputs": []
    },
    {
      "cell_type": "code",
      "source": [
        "byrd_aws_1999_datasets2 = amrdc_repository.action.package_search(q=\"Byrd 1999\")['results']"
      ],
      "metadata": {
        "id": "k-SGmO8zit9M"
      },
      "execution_count": null,
      "outputs": []
    },
    {
      "cell_type": "markdown",
      "source": [
        "That's it! The library returns the response as a list of dictionaries, this time containing all of the metadata. Let's make sure we got the same response as last time."
      ],
      "metadata": {
        "id": "2d3iEgRnlSQ6"
      }
    },
    {
      "cell_type": "code",
      "source": [
        "print([dataset['title'] for dataset in byrd_aws_1999_datasets2])"
      ],
      "metadata": {
        "colab": {
          "base_uri": "https://localhost:8080/"
        },
        "id": "b9joTlFQjOCV",
        "outputId": "eb65e0ea-9e80-4bdb-8f23-2eee2e21a80f"
      },
      "execution_count": null,
      "outputs": [
        {
          "output_type": "stream",
          "name": "stdout",
          "text": [
            "['Byrd Automatic Weather Station, 1999 unmodified ten-minute observational data.', 'Byrd Automatic Weather Station, 1999 Reader format three-hour observational data.']\n"
          ]
        }
      ]
    }
  ]
}