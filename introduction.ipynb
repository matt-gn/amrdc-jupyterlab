{
  "nbformat": 4,
  "nbformat_minor": 0,
  "metadata": {
    "colab": {
      "provenance": [],
      "authorship_tag": "ABX9TyPHBIRBGLNAa7W9uDgWPU9F",
      "include_colab_link": true
    },
    "kernelspec": {
      "name": "python3",
      "display_name": "Python 3"
    },
    "language_info": {
      "name": "python"
    }
  },
  "cells": [
    {
      "cell_type": "markdown",
      "metadata": {
        "id": "view-in-github",
        "colab_type": "text"
      },
      "source": [
        "<a href=\"https://colab.research.google.com/github/matt-gn/amrdc-jupyterlab/blob/main/introduction.ipynb\" target=\"_parent\"><img src=\"https://colab.research.google.com/assets/colab-badge.svg\" alt=\"Open In Colab\"/></a>"
      ]
    },
    {
      "cell_type": "markdown",
      "source": [
        "# AMRDC Repository API Introduction"
      ],
      "metadata": {
        "id": "x5brn_HSAWDv"
      }
    },
    {
      "cell_type": "markdown",
      "source": [
        "In this tutorial we will learn how to access, interact, and aggregate AMRDC data and metadata via the public API (application programming interface). Along the way, we will learn a bit about the architecture of APIs, HTTP requests, and wrangling JSON and other data streams in Python.\n",
        "\n",
        "This tutorial assumes you have Python 3.xx installed, along with either the `pip` tool or an active `conda` environment.\n",
        "\n",
        "Users can apply these examples to their favorite programming language using any utility that can generate and receive an HTTP request. In fact, we will even learn how to execute API requests in your web browser and get a formatted JSON file as a response.\n",
        "\n",
        "Alternately, you can execute the code directly in this notebook by opening it in Google Colab or downloading the `.ipynb` file and opening it in your favorite interactive notebook environment.\n",
        "\n",
        "For a more technical treatment of this topic, refer to the [Official CKAN API Guide](https://docs.ckan.org/en/2.10/api/index.html)."
      ],
      "metadata": {
        "id": "ULjiGF2kAcIa"
      }
    },
    {
      "cell_type": "markdown",
      "source": [
        "## Accessing the repository using the `requests` library"
      ],
      "metadata": {
        "id": "zK5Kp5gV8QhH"
      }
    },
    {
      "cell_type": "markdown",
      "source": [
        "We'll start by importing the `requests` library, which we can use to make simple HTTP GET and POST requests."
      ],
      "metadata": {
        "id": "Zerx8SeZ-BC6"
      }
    },
    {
      "cell_type": "code",
      "execution_count": null,
      "metadata": {
        "id": "vObnxjDtF7PF"
      },
      "outputs": [],
      "source": [
        "import requests"
      ]
    },
    {
      "cell_type": "markdown",
      "source": [
        "We're ready to make our first API call."
      ],
      "metadata": {
        "id": "9jMXX9jB-LZf"
      }
    },
    {
      "cell_type": "code",
      "source": [
        "## Request a list of datasets from the repository\n",
        "## requests.get() returns a `Response` object, which can be cast to a dict using .json()\n",
        "response = requests.get('https://amrdcdata.ssec.wisc.edu/api/action/package_list').json()\n",
        "\n",
        "## We then access the results using the 'result' key.\n",
        "amrdc_datasets = response['result']\n",
        "\n",
        "## Let's see how many datasets are in the repo.\n",
        "len(amrdc_datasets)"
      ],
      "metadata": {
        "id": "PFlP9i6rF8pm",
        "colab": {
          "base_uri": "https://localhost:8080/"
        },
        "outputId": "900e55bb-6c65-4eb3-efb6-3a871fc4350f"
      },
      "execution_count": null,
      "outputs": [
        {
          "output_type": "execute_result",
          "data": {
            "text/plain": [
              "4507"
            ]
          },
          "metadata": {},
          "execution_count": 38
        }
      ]
    },
    {
      "cell_type": "markdown",
      "source": [
        "Okay, that worked. Now let's use this list to look for Byrd AWS datasets.\n"
      ],
      "metadata": {
        "id": "EHxX0nrfrWGR"
      }
    },
    {
      "cell_type": "code",
      "source": [
        "byrd_aws_datasets = [dataset for dataset in amrdc_datasets if \"byrd\" in dataset]\n",
        "len(byrd_aws_datasets)"
      ],
      "metadata": {
        "colab": {
          "base_uri": "https://localhost:8080/"
        },
        "id": "V7IKaLCqGocn",
        "outputId": "38df821d-8b93-4057-8309-3e8a9b3fa2c6"
      },
      "execution_count": null,
      "outputs": [
        {
          "output_type": "execute_result",
          "data": {
            "text/plain": [
              "91"
            ]
          },
          "metadata": {},
          "execution_count": 39
        }
      ]
    },
    {
      "cell_type": "markdown",
      "source": [
        "Great. Say we want only Byrd AWS datasets from 1999...."
      ],
      "metadata": {
        "id": "Uht4H_oBraAQ"
      }
    },
    {
      "cell_type": "code",
      "source": [
        "byrd_aws_1999_datasets = [dataset for dataset in amrdc_datasets if \"byrd\" in dataset and \"1999\" in dataset]\n",
        "byrd_aws_1999_datasets"
      ],
      "metadata": {
        "colab": {
          "base_uri": "https://localhost:8080/"
        },
        "id": "N3bDb0vrHByG",
        "outputId": "7a8416c5-6025-4947-d019-42cdc68b9bf3"
      },
      "execution_count": null,
      "outputs": [
        {
          "output_type": "execute_result",
          "data": {
            "text/plain": [
              "['byrd-automatic-weather-station-1999-reader-format-three-hour-observational-data',\n",
              " 'byrd-automatic-weather-station-1999-unmodified-ten-minute-observational-data']"
            ]
          },
          "metadata": {},
          "execution_count": 41
        }
      ]
    },
    {
      "cell_type": "markdown",
      "source": [
        "You can use these results as static URLs by appending them to `https://amrdcdata.ssec.wisc.edu/dataset/`. Visit [this link](https://amrdcdata.ssec.wisc.edu/dataset/byrd-automatic-weather-station-1999-unmodified-ten-minute-observational-data) in your browser to access the data.\n",
        "\n",
        "This method works, but it's inefficient and verbose. Surely there has to be a better way...."
      ],
      "metadata": {
        "id": "6ExgftPj95mG"
      }
    },
    {
      "cell_type": "markdown",
      "source": [
        "## Accessing the repository using the `ckanapi` library"
      ],
      "metadata": {
        "id": "vauLYf9W8jbQ"
      }
    },
    {
      "cell_type": "markdown",
      "source": [
        "The `ckanapi` library is a simple, powerful Python wrapper for programmatically communicating with the CKAN API.\n",
        "\n",
        "Install it with `pip install ckanapi` or `conda install -c conda-forge ckanapi`."
      ],
      "metadata": {
        "id": "6cpw2g50_vWh"
      }
    },
    {
      "cell_type": "code",
      "source": [
        "%pip install ckanapi\n",
        "import ckanapi"
      ],
      "metadata": {
        "id": "xyXF3k1yJitm"
      },
      "execution_count": null,
      "outputs": []
    },
    {
      "cell_type": "markdown",
      "source": [
        "Let's import the library and execute another search for the Byrd 1999 data."
      ],
      "metadata": {
        "id": "Rfzu9UP7lBWW"
      }
    },
    {
      "cell_type": "code",
      "source": [
        "from ckanapi import RemoteCKAN\n",
        "amrdc_repository = RemoteCKAN('https://amrdcdata.ssec.wisc.edu/')"
      ],
      "metadata": {
        "id": "N5lP5v9YiiZJ"
      },
      "execution_count": null,
      "outputs": []
    },
    {
      "cell_type": "code",
      "source": [
        "byrd_aws_1999_datasets2 = amrdc_repository.action.package_search(q=\"Byrd 1999\")['results']"
      ],
      "metadata": {
        "id": "k-SGmO8zit9M"
      },
      "execution_count": null,
      "outputs": []
    },
    {
      "cell_type": "markdown",
      "source": [
        "That's it! The library returns the response as a list of dictionaries, this time containing all of the metadata. Let's make sure we got the same response as last time."
      ],
      "metadata": {
        "id": "2d3iEgRnlSQ6"
      }
    },
    {
      "cell_type": "code",
      "source": [
        "[dataset['title'] for dataset in byrd_aws_1999_datasets2]"
      ],
      "metadata": {
        "id": "b9joTlFQjOCV",
        "colab": {
          "base_uri": "https://localhost:8080/"
        },
        "outputId": "b60e28f3-691c-458a-d3f6-efac51430b10"
      },
      "execution_count": null,
      "outputs": [
        {
          "output_type": "execute_result",
          "data": {
            "text/plain": [
              "['Byrd Automatic Weather Station, 1999 unmodified ten-minute observational data.',\n",
              " 'Byrd Automatic Weather Station, 1999 Reader format three-hour observational data.']"
            ]
          },
          "metadata": {},
          "execution_count": 43
        }
      ]
    },
    {
      "cell_type": "markdown",
      "source": [
        "Looks good! Let's see how we can leverage the API for other use cases."
      ],
      "metadata": {
        "id": "Mhmkan9Ltpf8"
      }
    }
  ]
}